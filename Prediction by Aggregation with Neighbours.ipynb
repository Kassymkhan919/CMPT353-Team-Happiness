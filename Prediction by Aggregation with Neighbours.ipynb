{
 "cells": [
  {
   "cell_type": "code",
   "execution_count": 34,
   "metadata": {},
   "outputs": [],
   "source": [
    "import numpy as np\n",
    "import pandas as pd\n",
    "import difflib as dl\n",
    "import matplotlib.pyplot as plt"
   ]
  },
  {
   "cell_type": "code",
   "execution_count": 35,
   "metadata": {},
   "outputs": [],
   "source": [
    "data = pd.read_csv('Three-Year-Data.csv')"
   ]
  },
  {
   "cell_type": "code",
   "execution_count": 36,
   "metadata": {},
   "outputs": [],
   "source": [
    "avg2015 = data.groupby('Country Name')['Happiness Score 2015'].mean()\n",
    "avg2016 = data.groupby('Country Name')['Happiness Score 2016'].mean()\n",
    "avg2017 = data.groupby('Country Name')['Happiness Score 2017'].mean()"
   ]
  },
  {
   "cell_type": "code",
   "execution_count": 37,
   "metadata": {},
   "outputs": [],
   "source": [
    "by_country = data.groupby('Country Name').mean()\n",
    "avg_201x = by_country[['Happiness Score 2015', 'Happiness Score 2016', 'Happiness Score 2017']].mean(axis=1)"
   ]
  },
  {
   "cell_type": "code",
   "execution_count": 38,
   "metadata": {
    "scrolled": true
   },
   "outputs": [],
   "source": [
    "data15 = pd.read_csv('2015.csv')\n",
    "data16 = pd.read_csv('2016.csv')\n",
    "data17 = pd.read_csv('2017.csv')\n",
    "data17 = data17.rename(columns = {'Happiness.Score': 'Happiness Score'})\n",
    "data15 = data15[['Country', 'Happiness Score']]\n",
    "data16 = data16[['Country', 'Happiness Score']]\n",
    "data17 = data17[['Country', 'Happiness Score']]\n",
    "\n",
    "data_all = data15.merge(data16, how='left', left_on='Country', right_on='Country')\n",
    "data_all = data_all.merge(data17, how='left', left_on='Country', right_on='Country')\n",
    "data_all = data_all.rename(columns = {'Happiness Score_x': 'Happiness Score 2015',\n",
    "                                      'Happiness Score_y': 'Happiness Score 2016',\n",
    "                                      'Happiness Score': 'Happiness Score 2017'})"
   ]
  },
  {
   "cell_type": "code",
   "execution_count": null,
   "metadata": {},
   "outputs": [],
   "source": []
  },
  {
   "cell_type": "code",
   "execution_count": 39,
   "metadata": {},
   "outputs": [],
   "source": [
    "data_all['avg'] = (data_all.iloc[:,1]+data_all.iloc[:,2]+data_all.iloc[:,3])/3\n",
    "data_all = data_all[['Country', 'avg']]\n",
    "avg_201x = avg_201x.reset_index().rename(columns = {0: 'Average'})\n",
    "data2 = data_all.merge(avg_201x, left_on='Country', right_on='Country Name')\n"
   ]
  },
  {
   "cell_type": "code",
   "execution_count": 54,
   "metadata": {},
   "outputs": [
    {
     "data": {
      "text/plain": [
       "Text(0.5, 1.0, 'Difference Between Predicted and Actual Scores')"
      ]
     },
     "execution_count": 54,
     "metadata": {},
     "output_type": "execute_result"
    },
    {
     "data": {
      "image/png": "[encoded data removed]",
      "text/plain": [
       "<Figure size 720x576 with 1 Axes>"
      ]
     },
     "metadata": {
      "needs_background": "light"
     },
     "output_type": "display_data"
    }
   ],
   "source": [
    "data2 = data2[:25]\n",
    "arr = data2[['avg', 'Average']]\n",
    "arr.plot(kind='bar',figsize=(10,8))\n",
    "plt.xlabel('Index of countries')\n",
    "plt.ylabel('Happiness Score')\n",
    "plt.title('Difference Between Predicted and Actual Scores')"
   ]
  },
  {
   "cell_type": "code",
   "execution_count": null,
   "metadata": {},
   "outputs": [],
   "source": []
  },
  {
   "cell_type": "code",
   "execution_count": null,
   "metadata": {},
   "outputs": [],
   "source": []
  }
 ],
 "metadata": {
  "kernelspec": {
   "display_name": "Python 3",
   "language": "python",
   "name": "python3"
  },
  "language_info": {
   "codemirror_mode": {
    "name": "ipython",
    "version": 3
   },
   "file_extension": ".py",
   "mimetype": "text/x-python",
   "name": "python",
   "nbconvert_exporter": "python",
   "pygments_lexer": "ipython3",
   "version": "3.7.3"
  }
 },
 "nbformat": 4,
 "nbformat_minor": 2
}
