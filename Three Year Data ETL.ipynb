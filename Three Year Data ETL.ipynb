{
 "cells": [
  {
   "cell_type": "code",
   "execution_count": 29,
   "metadata": {},
   "outputs": [],
   "source": [
    "import numpy as np\n",
    "import pandas as pd\n",
    "import difflib as dl"
   ]
  },
  {
   "cell_type": "code",
   "execution_count": 30,
   "metadata": {},
   "outputs": [],
   "source": [
    "new_names = pd.read_csv('names.csv').values[:,0]\n",
    "def nameReplace(oldName):\n",
    "    newName = dl.get_close_matches(oldName, new_names)\n",
    "    if not newName:\n",
    "        return ''\n",
    "    return newName[0]"
   ]
  },
  {
   "cell_type": "code",
   "execution_count": 31,
   "metadata": {},
   "outputs": [],
   "source": [
    "borders = pd.read_csv('borders.csv')\n",
    "borders['country_name'] = borders['country_name'].apply(nameReplace)\n",
    "borders['country_border_name'] = borders['country_border_name'].apply(nameReplace)\n",
    "borders = borders[borders['country_name'] != '']\n",
    "borders = borders[borders['country_border_name'] != '']\n",
    "borders.to_csv('border-names.csv')"
   ]
  },
  {
   "cell_type": "code",
   "execution_count": 32,
   "metadata": {},
   "outputs": [],
   "source": [
    "data15 = pd.read_csv('2015-happiness-only.csv')\n",
    "data16 = pd.read_csv('2016-happiness-only.csv')\n",
    "data17 = pd.read_csv('2017-happiness-only.csv')\n",
    "borders = borders.merge(data15, how='left', left_on='country_border_name', right_on='Country').rename(columns = {'Happiness Score': 'Happiness Score 2015'})\n",
    "borders = borders.drop(['Country'], axis=1)\n",
    "borders = borders.merge(data16, how='left', left_on='country_border_name', right_on='Country').rename(columns = {'Happiness Score': 'Happiness Score 2016'})\n",
    "borders = borders.drop(['Country'], axis=1)\n",
    "borders = borders.merge(data17, how='left', left_on='country_border_name', right_on='Country').rename(columns = {'Happiness Score': 'Happiness Score 2017'})\n",
    "borders = borders.drop(['Country'], axis=1)\n",
    "borders = borders.rename(columns = {'country_name': 'Country Name', \n",
    "                                    'country_border_name': 'Country Border Name'})"
   ]
  },
  {
   "cell_type": "code",
   "execution_count": 33,
   "metadata": {},
   "outputs": [],
   "source": [
    "borders.to_csv('Three-Year-Data.csv')"
   ]
  },
  {
   "cell_type": "code",
   "execution_count": null,
   "metadata": {},
   "outputs": [],
   "source": []
  },
  {
   "cell_type": "code",
   "execution_count": null,
   "metadata": {},
   "outputs": [],
   "source": []
  }
 ],
 "metadata": {
  "kernelspec": {
   "display_name": "Python 3",
   "language": "python",
   "name": "python3"
  },
  "language_info": {
   "codemirror_mode": {
    "name": "ipython",
    "version": 3
   },
   "file_extension": ".py",
   "mimetype": "text/x-python",
   "name": "python",
   "nbconvert_exporter": "python",
   "pygments_lexer": "ipython3",
   "version": "3.7.3"
  }
 },
 "nbformat": 4,
 "nbformat_minor": 2
}
