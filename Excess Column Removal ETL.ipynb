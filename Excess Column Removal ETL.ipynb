{
 "cells": [
  {
   "cell_type": "code",
   "execution_count": 1,
   "metadata": {},
   "outputs": [],
   "source": [
    "import numpy as np\n",
    "import pandas as pd\n",
    "import difflib as dl"
   ]
  },
  {
   "cell_type": "code",
   "execution_count": 2,
   "metadata": {},
   "outputs": [],
   "source": [
    "borders = pd.read_csv('GEODATASOURCE-COUNTRY-BORDERS.csv')\n",
    "data15 = pd.read_csv('2015.csv')\n",
    "data16 = pd.read_csv('2016.csv')\n",
    "data17 = pd.read_csv('2017.csv')\n",
    "data17 = data17.rename(columns = {'Happiness.Score': 'Happiness Score'})"
   ]
  },
  {
   "cell_type": "code",
   "execution_count": 3,
   "metadata": {},
   "outputs": [],
   "source": [
    "borders = borders[['country_name', 'country_border_name']]\n",
    "borders = borders[borders['country_border_name'].notnull()]\n",
    "data15 = data15[['Country', 'Happiness Score']]\n",
    "data16 = data16[['Country', 'Happiness Score']]\n",
    "data17 = data17[['Country', 'Happiness Score']]"
   ]
  },
  {
   "cell_type": "code",
   "execution_count": 4,
   "metadata": {},
   "outputs": [],
   "source": [
    "names = pd.concat(\n",
    "    [data15['Country'], data16['Country']], ignore_index=True\n",
    "         ).drop_duplicates().reset_index(drop=True)\n",
    "names = pd.concat(\n",
    "    [names, data17['Country']], ignore_index=True\n",
    "         ).drop_duplicates().reset_index(drop=True)\n",
    "names = pd.DataFrame(names, columns=['Country'])"
   ]
  },
  {
   "cell_type": "code",
   "execution_count": 5,
   "metadata": {},
   "outputs": [],
   "source": [
    "names.to_csv('names.csv', index=False)"
   ]
  },
  {
   "cell_type": "code",
   "execution_count": 6,
   "metadata": {},
   "outputs": [],
   "source": [
    "borders.to_csv('borders.csv', index=False)"
   ]
  },
  {
   "cell_type": "code",
   "execution_count": 7,
   "metadata": {},
   "outputs": [],
   "source": [
    "data15.to_csv('2015-happiness-only.csv', index=False)\n",
    "data16.to_csv('2016-happiness-only.csv', index=False)\n",
    "data17.to_csv('2017-happiness-only.csv', index=False)"
   ]
  },
  {
   "cell_type": "code",
   "execution_count": null,
   "metadata": {},
   "outputs": [],
   "source": []
  },
  {
   "cell_type": "code",
   "execution_count": null,
   "metadata": {},
   "outputs": [],
   "source": []
  },
  {
   "cell_type": "code",
   "execution_count": null,
   "metadata": {},
   "outputs": [],
   "source": []
  },
  {
   "cell_type": "code",
   "execution_count": null,
   "metadata": {},
   "outputs": [],
   "source": []
  },
  {
   "cell_type": "code",
   "execution_count": null,
   "metadata": {},
   "outputs": [],
   "source": []
  },
  {
   "cell_type": "code",
   "execution_count": null,
   "metadata": {},
   "outputs": [],
   "source": []
  }
 ],
 "metadata": {
  "kernelspec": {
   "display_name": "Python 3",
   "language": "python",
   "name": "python3"
  },
  "language_info": {
   "codemirror_mode": {
    "name": "ipython",
    "version": 3
   },
   "file_extension": ".py",
   "mimetype": "text/x-python",
   "name": "python",
   "nbconvert_exporter": "python",
   "pygments_lexer": "ipython3",
   "version": "3.7.3"
  }
 },
 "nbformat": 4,
 "nbformat_minor": 2
}
