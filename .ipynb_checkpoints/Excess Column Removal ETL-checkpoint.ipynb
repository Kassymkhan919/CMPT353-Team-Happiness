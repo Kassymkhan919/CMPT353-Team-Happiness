{
 "cells": [
  {
   "cell_type": "code",
   "execution_count": 111,
   "metadata": {},
   "outputs": [],
   "source": [
    "import numpy as np\n",
    "import pandas as pd\n",
    "import difflib as dl"
   ]
  },
  {
   "cell_type": "code",
   "execution_count": 112,
   "metadata": {},
   "outputs": [],
   "source": [
    "borders = pd.read_csv('GEODATASOURCE-COUNTRY-BORDERS.csv')\n",
    "data15 = pd.read_csv('2015.csv')\n",
    "data16 = pd.read_csv('2016.csv')\n",
    "data17 = pd.read_csv('2017.csv')\n",
    "data17 = data17.rename(columns = {'Happiness.Score': 'Happiness Score'})"
   ]
  },
  {
   "cell_type": "code",
   "execution_count": 113,
   "metadata": {},
   "outputs": [
    {
     "data": {
      "text/html": [
       "<div>\n",
       "<style scoped>\n",
       "    .dataframe tbody tr th:only-of-type {\n",
       "        vertical-align: middle;\n",
       "    }\n",
       "\n",
       "    .dataframe tbody tr th {\n",
       "        vertical-align: top;\n",
       "    }\n",
       "\n",
       "    .dataframe thead th {\n",
       "        text-align: right;\n",
       "    }\n",
       "</style>\n",
       "<table border=\"1\" class=\"dataframe\">\n",
       "  <thead>\n",
       "    <tr style=\"text-align: right;\">\n",
       "      <th></th>\n",
       "      <th>country_name</th>\n",
       "      <th>country_border_name</th>\n",
       "    </tr>\n",
       "  </thead>\n",
       "  <tbody>\n",
       "    <tr>\n",
       "      <th>456</th>\n",
       "      <td>Malaysia</td>\n",
       "      <td>Brunei Darussalam</td>\n",
       "    </tr>\n",
       "    <tr>\n",
       "      <th>457</th>\n",
       "      <td>Malaysia</td>\n",
       "      <td>Indonesia</td>\n",
       "    </tr>\n",
       "    <tr>\n",
       "      <th>458</th>\n",
       "      <td>Malaysia</td>\n",
       "      <td>Thailand</td>\n",
       "    </tr>\n",
       "  </tbody>\n",
       "</table>\n",
       "</div>"
      ],
      "text/plain": [
       "    country_name country_border_name\n",
       "456     Malaysia   Brunei Darussalam\n",
       "457     Malaysia           Indonesia\n",
       "458     Malaysia            Thailand"
      ]
     },
     "execution_count": 113,
     "metadata": {},
     "output_type": "execute_result"
    }
   ],
   "source": [
    "borders = borders[['country_name', 'country_border_name']]\n",
    "borders = borders[borders['country_border_name'].notnull()]\n",
    "data15 = data15[['Country', 'Happiness Score']]\n",
    "data16 = data16[['Country', 'Happiness Score']]\n",
    "data17 = data17[['Country', 'Happiness Score']]\n",
    "borders[borders['country_name'] == 'Malaysia']"
   ]
  },
  {
   "cell_type": "code",
   "execution_count": 114,
   "metadata": {},
   "outputs": [
    {
     "ename": "AttributeError",
     "evalue": "'numpy.ndarray' object has no attribute 'to_csv'",
     "output_type": "error",
     "traceback": [
      "\u001b[0;31m---------------------------------------------------------------------------\u001b[0m",
      "\u001b[0;31mAttributeError\u001b[0m                            Traceback (most recent call last)",
      "\u001b[0;32m<ipython-input-114-59012e2e5c47>\u001b[0m in \u001b[0;36m<module>\u001b[0;34m\u001b[0m\n\u001b[1;32m     11\u001b[0m         \u001b[0;32mreturn\u001b[0m \u001b[0;34m''\u001b[0m\u001b[0;34m\u001b[0m\u001b[0;34m\u001b[0m\u001b[0m\n\u001b[1;32m     12\u001b[0m     \u001b[0;32mreturn\u001b[0m \u001b[0mnewName\u001b[0m\u001b[0;34m[\u001b[0m\u001b[0;36m0\u001b[0m\u001b[0;34m]\u001b[0m\u001b[0;34m\u001b[0m\u001b[0;34m\u001b[0m\u001b[0m\n\u001b[0;32m---> 13\u001b[0;31m \u001b[0mnames\u001b[0m\u001b[0;34m.\u001b[0m\u001b[0mto_csv\u001b[0m\u001b[0;34m(\u001b[0m\u001b[0;34m'names.csv'\u001b[0m\u001b[0;34m)\u001b[0m\u001b[0;34m\u001b[0m\u001b[0;34m\u001b[0m\u001b[0m\n\u001b[0m\u001b[1;32m     14\u001b[0m \u001b[0;31m# names[names == 'Russian Federation']\u001b[0m\u001b[0;34m\u001b[0m\u001b[0;34m\u001b[0m\u001b[0;34m\u001b[0m\u001b[0m\n\u001b[1;32m     15\u001b[0m \u001b[0;31m# nameReplace('Czechia')\u001b[0m\u001b[0;34m\u001b[0m\u001b[0;34m\u001b[0m\u001b[0;34m\u001b[0m\u001b[0m\n",
      "\u001b[0;31mAttributeError\u001b[0m: 'numpy.ndarray' object has no attribute 'to_csv'"
     ]
    }
   ],
   "source": [
    "names = pd.concat(\n",
    "    [data15['Country'], data16['Country']], ignore_index=True\n",
    "         ).drop_duplicates().reset_index(drop=True)\n",
    "names = pd.concat(\n",
    "    [names, data17['Country']], ignore_index=True\n",
    "         ).drop_duplicates().reset_index(drop=True)\n",
    "names.to_csv('names.csv')\n",
    "names = names.values\n",
    "def nameReplace(oldName):\n",
    "    newName = dl.get_close_matches(oldName[:13], names)\n",
    "    if not newName:\n",
    "        return ''\n",
    "    return newName[0]\n",
    "# names[names == 'Russian Federation']\n",
    "# nameReplace('Czechia')"
   ]
  },
  {
   "cell_type": "code",
   "execution_count": 104,
   "metadata": {},
   "outputs": [],
   "source": [
    "borders['country_name'] = borders['country_name'].apply(nameReplace)\n",
    "borders['country_border_name'] = borders['country_border_name'].apply(nameReplace)\n",
    "borders = borders[borders['country_name'] != '']\n",
    "borders = borders[borders['country_border_name'] != '']\n",
    "borders.to_csv('border-names.csv')"
   ]
  },
  {
   "cell_type": "code",
   "execution_count": 105,
   "metadata": {},
   "outputs": [],
   "source": [
    "borders = borders.merge(data15, how='left', left_on='country_border_name', right_on='Country').rename(columns = {'Happiness Score': 'Happiness Score 2015'})\n",
    "borders = borders.drop(['Country'], axis=1)\n",
    "borders = borders.merge(data16, how='left', left_on='country_border_name', right_on='Country').rename(columns = {'Happiness Score': 'Happiness Score 2016'})\n",
    "borders = borders.drop(['Country'], axis=1)\n",
    "borders = borders.merge(data17, how='left', left_on='country_border_name', right_on='Country').rename(columns = {'Happiness Score': 'Happiness Score 2017'})\n",
    "borders = borders.drop(['Country'], axis=1)\n",
    "borders = borders.rename(columns = {'country_name': 'Country Name', \n",
    "                                    'country_border_name': 'Country Border Name'})"
   ]
  },
  {
   "cell_type": "code",
   "execution_count": 106,
   "metadata": {},
   "outputs": [],
   "source": [
    "borders.to_csv('Three-Year-Data.csv')"
   ]
  },
  {
   "cell_type": "code",
   "execution_count": null,
   "metadata": {},
   "outputs": [],
   "source": []
  },
  {
   "cell_type": "code",
   "execution_count": null,
   "metadata": {},
   "outputs": [],
   "source": [
    "\n"
   ]
  },
  {
   "cell_type": "code",
   "execution_count": null,
   "metadata": {},
   "outputs": [],
   "source": []
  },
  {
   "cell_type": "code",
   "execution_count": null,
   "metadata": {},
   "outputs": [],
   "source": []
  },
  {
   "cell_type": "code",
   "execution_count": null,
   "metadata": {},
   "outputs": [],
   "source": []
  },
  {
   "cell_type": "code",
   "execution_count": null,
   "metadata": {},
   "outputs": [],
   "source": []
  },
  {
   "cell_type": "code",
   "execution_count": null,
   "metadata": {},
   "outputs": [],
   "source": []
  },
  {
   "cell_type": "code",
   "execution_count": null,
   "metadata": {},
   "outputs": [],
   "source": []
  },
  {
   "cell_type": "code",
   "execution_count": null,
   "metadata": {},
   "outputs": [],
   "source": []
  }
 ],
 "metadata": {
  "kernelspec": {
   "display_name": "Python 3",
   "language": "python",
   "name": "python3"
  },
  "language_info": {
   "codemirror_mode": {
    "name": "ipython",
    "version": 3
   },
   "file_extension": ".py",
   "mimetype": "text/x-python",
   "name": "python",
   "nbconvert_exporter": "python",
   "pygments_lexer": "ipython3",
   "version": "3.7.3"
  }
 },
 "nbformat": 4,
 "nbformat_minor": 2
}
